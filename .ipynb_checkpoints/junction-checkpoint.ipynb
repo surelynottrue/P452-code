{
 "cells": [
  {
   "cell_type": "code",
   "execution_count": 1,
   "id": "precise-victim",
   "metadata": {},
   "outputs": [],
   "source": [
    "import numpy as np"
   ]
  },
  {
   "cell_type": "code",
   "execution_count": null,
   "id": "secure-gallery",
   "metadata": {},
   "outputs": [],
   "source": [
    "def junction(t, y, paramlist):\n",
    "    g, dg = tuple(y)\n",
    "    I, Ic0, Q = tuple(paramlist)\n",
    "    dg = dg\n",
    "    ddg = I/Ic0 - (1/Q)*dg - np.sin(g)\n",
    "    return [ddg, dg]    "
   ]
  }
 ],
 "metadata": {
  "kernelspec": {
   "display_name": "Python 3 (ipykernel)",
   "language": "python",
   "name": "python3"
  },
  "language_info": {
   "codemirror_mode": {
    "name": "ipython",
    "version": 3
   },
   "file_extension": ".py",
   "mimetype": "text/x-python",
   "name": "python",
   "nbconvert_exporter": "python",
   "pygments_lexer": "ipython3",
   "version": "3.9.7"
  }
 },
 "nbformat": 4,
 "nbformat_minor": 5
}
