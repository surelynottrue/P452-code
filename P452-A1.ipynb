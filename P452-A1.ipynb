{
 "cells": [
  {
   "cell_type": "markdown",
   "metadata": {},
   "source": [
    "# Assignment 1: Matrix Inversion"
   ]
  },
  {
   "cell_type": "code",
   "execution_count": 2,
   "metadata": {},
   "outputs": [],
   "source": [
    "from LibPython.Library import MatInv, Eigen\n",
    "import numpy as np\n",
    "from matplotlib import pyplot as plt\n",
    "np.set_printoptions(precision=3, suppress=True)\n",
    "m  = MatInv()\n",
    "e = Eigen()"
   ]
  },
  {
   "cell_type": "markdown",
   "metadata": {},
   "source": [
    "## Q1"
   ]
  },
  {
   "cell_type": "code",
   "execution_count": 3,
   "metadata": {},
   "outputs": [
    {
     "name": "stdout",
     "output_type": "stream",
     "text": [
      "A:\n",
      "[[ 1. -1.  4.  0.  2.  9.]\n",
      " [ 0.  5. -2.  7.  8.  4.]\n",
      " [ 1.  0.  5.  7.  3. -2.]\n",
      " [ 6. -1.  2.  3.  0.  8.]\n",
      " [-4.  2.  0.  5. -5.  3.]\n",
      " [ 0.  7. -1.  5.  4. -2.]]\n",
      "\n",
      "b:\n",
      "[19.  2. 13. -7. -9.  2.]\n"
     ]
    }
   ],
   "source": [
    "A = [[1.0,-1.0,4.0,0.0,2.0,9.0], [0.0,5.0,-2.0,7.0,8.0,4.0], [1.0,0.0,5.0,7.0,3.0,-2.0], [6.0,-1.0,2.0,3.0,0.0,8.0], [-4.0,2.0,0.0,5.0,-5.0,3.0], [0.0,7.0,-1.0,5.0,4.0,-2.0]]\n",
    "b = [19.0, 2.0, 13.0, -7.0, -9.0, 2.0]\n",
    "A = np.array(A)\n",
    "b = np.array(b)\n",
    "print(\"A:\")\n",
    "print(A)\n",
    "print(\"\\nb:\")\n",
    "print(b)"
   ]
  },
  {
   "cell_type": "code",
   "execution_count": 4,
   "metadata": {},
   "outputs": [
    {
     "name": "stdout",
     "output_type": "stream",
     "text": [
      "Gauss Jordan solution: [-1.762  0.896  4.052 -1.617  2.042  0.152]\n",
      "Gauss Jordan Inverse*Matrix:\n",
      "[[ 1.  0.  0.  0.  0. -0.]\n",
      " [-0.  1.  0.  0.  0.  0.]\n",
      " [-0.  0.  1.  0.  0. -0.]\n",
      " [ 0.  0.  0.  1. -0. -0.]\n",
      " [-0. -0. -0. -0.  1.  0.]\n",
      " [-0. -0.  0.  0.  0.  1.]]\n",
      "\n",
      "LU solution: [-1.762  0.896  4.052 -1.617  2.042  0.152]\n",
      "LU Decomposition Inverse*Matrix:\n",
      "[[ 1. -0. -0. -0. -0. -0.]\n",
      " [ 0.  1. -0. -0. -0.  0.]\n",
      " [ 0.  0.  1. -0.  0. -0.]\n",
      " [ 0.  0.  0.  1. -0. -0.]\n",
      " [ 0. -0. -0. -0.  1.  0.]\n",
      " [ 0. -0. -0.  0.  0.  1.]]\n"
     ]
    },
    {
     "ename": "Exception",
     "evalue": "Did not converge, make sure coefficient matrix is diagonal heavy",
     "output_type": "error",
     "traceback": [
      "\u001b[1;31m---------------------------------------------------------------------------\u001b[0m",
      "\u001b[1;31mException\u001b[0m                                 Traceback (most recent call last)",
      "\u001b[1;32mC:\\Users\\SPANDA~1\\AppData\\Local\\Temp/ipykernel_20956/3654462398.py\u001b[0m in \u001b[0;36m<module>\u001b[1;34m\u001b[0m\n\u001b[0;32m      9\u001b[0m \u001b[0mprint\u001b[0m\u001b[1;33m(\u001b[0m\u001b[0mnp\u001b[0m\u001b[1;33m.\u001b[0m\u001b[0mdot\u001b[0m\u001b[1;33m(\u001b[0m\u001b[0mA\u001b[0m\u001b[1;33m,\u001b[0m \u001b[0minv_lu\u001b[0m\u001b[1;33m)\u001b[0m\u001b[1;33m)\u001b[0m\u001b[1;33m\u001b[0m\u001b[1;33m\u001b[0m\u001b[0m\n\u001b[0;32m     10\u001b[0m \u001b[1;31m# Inverses of these do not, each will give out an error which you can see by commenting out the others\u001b[0m\u001b[1;33m\u001b[0m\u001b[1;33m\u001b[0m\u001b[0m\n\u001b[1;32m---> 11\u001b[1;33m \u001b[0mprint\u001b[0m\u001b[1;33m(\u001b[0m\u001b[1;34m\"\\nJacobi solution: \"\u001b[0m\u001b[1;33m+\u001b[0m\u001b[0mstr\u001b[0m\u001b[1;33m(\u001b[0m\u001b[0mm\u001b[0m\u001b[1;33m.\u001b[0m\u001b[0mjacobi\u001b[0m\u001b[1;33m(\u001b[0m\u001b[0mA\u001b[0m\u001b[1;33m,\u001b[0m \u001b[0mb\u001b[0m\u001b[1;33m)\u001b[0m\u001b[1;33m)\u001b[0m\u001b[1;33m)\u001b[0m\u001b[1;33m\u001b[0m\u001b[1;33m\u001b[0m\u001b[0m\n\u001b[0m\u001b[0;32m     12\u001b[0m \u001b[0minv_jb\u001b[0m \u001b[1;33m=\u001b[0m \u001b[0mm\u001b[0m\u001b[1;33m.\u001b[0m\u001b[0minverse\u001b[0m\u001b[1;33m(\u001b[0m\u001b[0mA\u001b[0m\u001b[1;33m,\u001b[0m \u001b[0mm\u001b[0m\u001b[1;33m.\u001b[0m\u001b[0mjacobi\u001b[0m\u001b[1;33m)\u001b[0m\u001b[1;33m\u001b[0m\u001b[1;33m\u001b[0m\u001b[0m\n\u001b[0;32m     13\u001b[0m \u001b[0mprint\u001b[0m\u001b[1;33m(\u001b[0m\u001b[1;34m\"\\nGauss Siedel solution: \"\u001b[0m\u001b[1;33m+\u001b[0m\u001b[0mstr\u001b[0m\u001b[1;33m(\u001b[0m\u001b[0mm\u001b[0m\u001b[1;33m.\u001b[0m\u001b[0mgauss_siedel\u001b[0m\u001b[1;33m(\u001b[0m\u001b[0mA\u001b[0m\u001b[1;33m,\u001b[0m \u001b[0mb\u001b[0m\u001b[1;33m)\u001b[0m\u001b[1;33m)\u001b[0m\u001b[1;33m)\u001b[0m\u001b[1;33m\u001b[0m\u001b[1;33m\u001b[0m\u001b[0m\n",
      "\u001b[1;32mc:\\Users\\Spandan Anupam\\git\\P452-code\\LibPython\\Library.py\u001b[0m in \u001b[0;36mjacobi\u001b[1;34m(self, A, b, stop, residue)\u001b[0m\n\u001b[0;32m     68\u001b[0m             \u001b[0mres\u001b[0m\u001b[1;33m.\u001b[0m\u001b[0mappend\u001b[0m\u001b[1;33m(\u001b[0m\u001b[0mnp\u001b[0m\u001b[1;33m.\u001b[0m\u001b[0mlinalg\u001b[0m\u001b[1;33m.\u001b[0m\u001b[0mnorm\u001b[0m\u001b[1;33m(\u001b[0m\u001b[0moldx\u001b[0m \u001b[1;33m-\u001b[0m \u001b[0mx\u001b[0m\u001b[1;33m)\u001b[0m\u001b[1;33m)\u001b[0m\u001b[1;33m\u001b[0m\u001b[1;33m\u001b[0m\u001b[0m\n\u001b[0;32m     69\u001b[0m             \u001b[1;32mif\u001b[0m \u001b[0mnp\u001b[0m\u001b[1;33m.\u001b[0m\u001b[0mlinalg\u001b[0m\u001b[1;33m.\u001b[0m\u001b[0mnorm\u001b[0m\u001b[1;33m(\u001b[0m\u001b[0moldx\u001b[0m \u001b[1;33m-\u001b[0m \u001b[0mx\u001b[0m\u001b[1;33m)\u001b[0m \u001b[1;33m>\u001b[0m \u001b[1;36m1e2\u001b[0m\u001b[1;33m:\u001b[0m\u001b[1;33m\u001b[0m\u001b[1;33m\u001b[0m\u001b[0m\n\u001b[1;32m---> 70\u001b[1;33m                 \u001b[1;32mraise\u001b[0m \u001b[0mException\u001b[0m\u001b[1;33m(\u001b[0m\u001b[1;34m\"Did not converge, make sure coefficient matrix is diagonal heavy\"\u001b[0m\u001b[1;33m)\u001b[0m\u001b[1;33m\u001b[0m\u001b[1;33m\u001b[0m\u001b[0m\n\u001b[0m\u001b[0;32m     71\u001b[0m             \u001b[0moldx\u001b[0m \u001b[1;33m=\u001b[0m \u001b[0mnp\u001b[0m\u001b[1;33m.\u001b[0m\u001b[0mcopy\u001b[0m\u001b[1;33m(\u001b[0m\u001b[0mx\u001b[0m\u001b[1;33m)\u001b[0m\u001b[1;33m\u001b[0m\u001b[1;33m\u001b[0m\u001b[0m\n\u001b[0;32m     72\u001b[0m             \u001b[1;32mfor\u001b[0m \u001b[0mi\u001b[0m \u001b[1;32min\u001b[0m \u001b[0mrange\u001b[0m\u001b[1;33m(\u001b[0m\u001b[0mlen\u001b[0m\u001b[1;33m(\u001b[0m\u001b[0mb\u001b[0m\u001b[1;33m)\u001b[0m\u001b[1;33m)\u001b[0m\u001b[1;33m:\u001b[0m\u001b[1;33m\u001b[0m\u001b[1;33m\u001b[0m\u001b[0m\n",
      "\u001b[1;31mException\u001b[0m: Did not converge, make sure coefficient matrix is diagonal heavy"
     ]
    }
   ],
   "source": [
    "# These converge\n",
    "print(\"Gauss Jordan solution: \"+str(m.gauss_jordan(A, b)))\n",
    "inv_gj = m.inverse(A, m.gauss_jordan)\n",
    "print(\"Gauss Jordan Inverse*Matrix:\")\n",
    "print(np.dot(A, inv_gj))\n",
    "inv_lu = m.inverse(A, m.lu_decom)\n",
    "print(\"\\nLU solution: \"+str(m.lu_decom(A, b)))\n",
    "print(\"LU Decomposition Inverse*Matrix:\")\n",
    "print(np.dot(A, inv_lu))\n",
    "# Inverses of these do not, each will give out an error which you can see by commenting out the others\n",
    "print(\"\\nJacobi solution: \"+str(m.jacobi(A, b)))\n",
    "inv_jb = m.inverse(A, m.jacobi)\n",
    "print(\"\\nGauss Siedel solution: \"+str(m.gauss_siedel(A, b)))\n",
    "inv_gs = m.inverse(A, m.gauss_siedel)\n",
    "print(\"\\nConjugate Gradient solution: \"+str(m.conjugate_gradient(A, b)))\n",
    "inv_cg = m.inverse(A, m.conjugate_gradient)"
   ]
  },
  {
   "cell_type": "markdown",
   "metadata": {},
   "source": [
    "## Q2"
   ]
  },
  {
   "cell_type": "code",
   "execution_count": 7,
   "metadata": {},
   "outputs": [
    {
     "name": "stdout",
     "output_type": "stream",
     "text": [
      "A:\n",
      "[[ 2. -3.  0.  0.  0.  0.]\n",
      " [-1.  4. -1.  0. -1.  0.]\n",
      " [ 0. -1.  4.  0.  0. -1.]\n",
      " [ 0.  0.  0.  2. -3.  0.]\n",
      " [ 0. -1.  0. -1.  4. -1.]\n",
      " [ 0.  0. -1.  0. -1.  4.]]\n",
      "\n",
      "b:\n",
      "[-1.667  0.667  3.    -1.333 -0.333  1.667]\n"
     ]
    }
   ],
   "source": [
    "A = [[2.0,-3.0,0.0,0.0,0.0,0.0], [-1.0,4.0,-1.0,0.0,-1.0,0.0], [0.0,-1.0,4.0,0.0,0.0,-1.0], [0.0,0.0,0.0,2.0,-3.0,0.0], [0.0,-1.0,0.0,-1.0,4.0,-1.0], [0.0,0.0,-1.0,0.0,-1.0,4.0]]\n",
    "b = [-5/3,2/3,3,-4/3,-1/3,5/3]\n",
    "A = np.array(A)\n",
    "b = np.array(b)\n",
    "print(\"A:\")\n",
    "print(A)\n",
    "print(\"\\nb:\")\n",
    "print(b)"
   ]
  },
  {
   "cell_type": "code",
   "execution_count": 8,
   "metadata": {},
   "outputs": [
    {
     "name": "stdout",
     "output_type": "stream",
     "text": [
      "LU solution: [-0.333  0.333  1.    -0.667  0.     0.667]\n",
      "\n",
      "Jacobi solution: [-0.333  0.333  1.    -0.667  0.     0.667]\n"
     ]
    },
    {
     "data": {
      "image/png": "[encoded data removed]",
      "text/plain": [
       "<Figure size 432x288 with 1 Axes>"
      ]
     },
     "metadata": {
      "needs_background": "light"
     },
     "output_type": "display_data"
    },
    {
     "name": "stdout",
     "output_type": "stream",
     "text": [
      "Jacobi inverse:\n",
      "[[0.935 0.87  0.26  0.208 0.416 0.169]\n",
      " [0.29  0.58  0.173 0.139 0.277 0.113]\n",
      " [0.087 0.173 0.32  0.056 0.113 0.108]\n",
      " [0.208 0.416 0.169 0.935 0.87  0.26 ]\n",
      " [0.139 0.277 0.113 0.29  0.58  0.173]\n",
      " [0.056 0.113 0.108 0.087 0.173 0.32 ]]\n"
     ]
    },
    {
     "data": {
      "image/png": "[encoded data removed]",
      "text/plain": [
       "<Figure size 432x288 with 1 Axes>"
      ]
     },
     "metadata": {
      "needs_background": "light"
     },
     "output_type": "display_data"
    },
    {
     "name": "stdout",
     "output_type": "stream",
     "text": [
      "Gauss Siedel inverse\n",
      "[[0.935 0.87  0.26  0.208 0.416 0.169]\n",
      " [0.29  0.58  0.173 0.139 0.277 0.113]\n",
      " [0.087 0.173 0.32  0.056 0.113 0.108]\n",
      " [0.208 0.416 0.169 0.935 0.87  0.26 ]\n",
      " [0.139 0.277 0.113 0.29  0.58  0.173]\n",
      " [0.056 0.113 0.108 0.087 0.173 0.32 ]]\n"
     ]
    }
   ],
   "source": [
    "print(\"LU solution: \"+str(m.lu_decom(A, b)))\n",
    "print(\"\\nJacobi solution: \"+str(m.jacobi(A, b)))\n",
    "# These converge\n",
    "inv_jb, res_jb = m.inverse(A, m.jacobi, residue=True)\n",
    "plt.title(\"Jacobi Residue vs Iteration\")\n",
    "plt.plot(res_jb[1])\n",
    "plt.xlabel(\"Iterations\")\n",
    "plt.ylabel(\"Residue\")\n",
    "plt.show()\n",
    "print(\"Jacobi inverse:\")\n",
    "print(inv_jb)\n",
    "plt.close()\n",
    "plt.title(\"Gauss Siedel Residue vs Iteration\")\n",
    "inv_gs, res_gs = m.inverse(A, m.gauss_siedel, residue=True)\n",
    "plt.plot(res_gs[1])\n",
    "plt.xlabel(\"Iterations\")\n",
    "plt.ylabel(\"Residue\")\n",
    "plt.show()\n",
    "print(\"Gauss Siedel inverse\")\n",
    "print(inv_gs)\n",
    "plt.close()\n",
    "# This does not converge\n",
    "# inv_cg = m.inverse(A, m.conjugate_gradient)"
   ]
  },
  {
   "cell_type": "markdown",
   "metadata": {},
   "source": [
    "## Q3"
   ]
  },
  {
   "cell_type": "code",
   "execution_count": 10,
   "metadata": {},
   "outputs": [],
   "source": [
    "from LibPython.Library import UnloadedMatrix"
   ]
  },
  {
   "cell_type": "code",
   "execution_count": 11,
   "metadata": {
    "scrolled": true
   },
   "outputs": [
    {
     "name": "stdout",
     "output_type": "stream",
     "text": [
      "Matrix to be diagonalized:\n",
      "UnloadedMatrix([[-0.96, 0.5, 0.0, 0.5, 0.0, 0.0, 0.0, 0.0, 0.0],\n",
      "\t\t[0.5, -0.96, 0.5, 0.0, 0.5, 0.0, 0.0, 0.0, 0.0],\n",
      "\t\t[0.0, 0.5, -0.96, 0.0, 0.0, 0.5, 0.0, 0.0, 0.0],\n",
      "\t\t[0.5, 0.0, 0.0, -0.96, 0.5, 0.0, 0.5, 0.0, 0.0],\n",
      "\t\t[0.0, 0.5, 0.0, 0.5, -0.96, 0.5, 0.0, 0.5, 0.0],\n",
      "\t\t[0.0, 0.0, 0.5, 0.0, 0.5, -0.96, 0.0, 0.0, 0.5],\n",
      "\t\t[0.0, 0.0, 0.0, 0.5, 0.0, 0.0, -0.96, 0.5, 0.0],\n",
      "\t\t[0.0, 0.0, 0.0, 0.0, 0.5, 0.0, 0.5, -0.96, 0.5],\n",
      "\t\t[0.0, 0.0, 0.0, 0.0, 0.0, 0.5, 0.0, 0.5, -0.96]])\n",
      "\n",
      "Diagonalized:\n",
      "[[-1.418 -0.361  0.241 -0.361  0.483  0.825  0.241  0.825  0.859]\n",
      " [-0.361 -1.176 -0.361  0.483  0.464  0.483  0.825  1.101  0.825]\n",
      " [ 0.241 -0.361 -1.418  0.825  0.483 -0.361  0.859  0.825  0.241]\n",
      " [-0.361  0.483  0.825 -1.176  0.464  1.101 -0.361  0.483  0.825]\n",
      " [ 0.483  0.464  0.483  0.464 -0.076  0.464  0.483  0.464  0.483]\n",
      " [ 0.825  0.483 -0.361  1.101  0.464 -1.176  0.825  0.483 -0.361]\n",
      " [ 0.241  0.825  0.859 -0.361  0.483  0.825 -1.418 -0.361  0.241]\n",
      " [ 0.825  1.101  0.825  0.483  0.464  0.483 -0.361 -1.176 -0.361]\n",
      " [ 0.859  0.825  0.241  0.825  0.483 -0.361  0.241 -0.361 -1.418]]\n",
      "\n",
      "Checking diagonalization:\n",
      "[[ 1. -0.  0. -0.  0.  0.  0. -0. -0.]\n",
      " [ 0.  1. -0.  0.  0.  0.  0. -0.  0.]\n",
      " [ 0.  0.  1. -0.  0.  0.  0.  0.  0.]\n",
      " [ 0. -0. -0.  1. -0.  0.  0. -0. -0.]\n",
      " [-0.  0. -0.  0.  1. -0. -0.  0. -0.]\n",
      " [-0. -0. -0. -0. -0.  1. -0. -0. -0.]\n",
      " [ 0. -0.  0.  0.  0. -0.  1.  0.  0.]\n",
      " [ 0. -0.  0. -0.  0. -0.  0.  1.  0.]\n",
      " [-0. -0. -0. -0.  0. -0. -0. -0.  1.]]\n"
     ]
    },
    {
     "data": {
      "image/png": "[encoded data removed]",
      "text/plain": [
       "<Figure size 432x288 with 1 Axes>"
      ]
     },
     "metadata": {
      "needs_background": "light"
     },
     "output_type": "display_data"
    }
   ],
   "source": [
    "a = UnloadedMatrix(3, [[0,1], [1,0]], 0.2)\n",
    "b, res = m.inverse(a, m.conjugate_gradient, residue=True)\n",
    "print(\"Matrix to be diagonalized:\")\n",
    "print(a)\n",
    "print(\"\\nDiagonalized:\")\n",
    "print(b)\n",
    "print(\"\\nChecking diagonalization:\")\n",
    "print(a@b)\n",
    "\n",
    "plt.plot(res[0])\n",
    "plt.xlabel(\"Iterations\")\n",
    "plt.ylabel(\"Residue\")\n",
    "plt.title(\"Conjugate Gradient Residue vs Iterations\")\n",
    "plt.show()"
   ]
  },
  {
   "cell_type": "markdown",
   "metadata": {},
   "source": [
    "## Extra: Linear Regression"
   ]
  },
  {
   "cell_type": "code",
   "execution_count": 26,
   "metadata": {},
   "outputs": [],
   "source": [
    "from LibPython.Library import Statistics\n",
    "s = Statistics()"
   ]
  },
  {
   "cell_type": "code",
   "execution_count": 27,
   "metadata": {},
   "outputs": [],
   "source": [
    "data = np.genfromtxt(\"vol.csv\", delimiter=\",\")\n",
    "x = data[:, 0]\n",
    "y = data[:, 1]\n",
    "yerr = data[:, 2]\n",
    "y = np.log(y)\n",
    "yerr = np.log(yerr)"
   ]
  },
  {
   "cell_type": "code",
   "execution_count": 28,
   "metadata": {},
   "outputs": [],
   "source": [
    "yfit = s.linear_regression(x, y, yerr)[0]\n"
   ]
  },
  {
   "cell_type": "code",
   "execution_count": 29,
   "metadata": {},
   "outputs": [],
   "source": [
    "from matplotlib import pyplot as plt"
   ]
  },
  {
   "cell_type": "code",
   "execution_count": 30,
   "metadata": {},
   "outputs": [
    {
     "data": {
      "text/plain": [
       "[<matplotlib.lines.Line2D at 0x7f56453643a0>]"
      ]
     },
     "execution_count": 30,
     "metadata": {},
     "output_type": "execute_result"
    },
    {
     "data": {
      "image/png": "[encoded data removed]",
      "text/plain": [
       "<Figure size 432x288 with 1 Axes>"
      ]
     },
     "metadata": {
      "needs_background": "light"
     },
     "output_type": "display_data"
    }
   ],
   "source": [
    "plt.scatter(x, y)\n",
    "plt.plot(x, yfit)"
   ]
  },
  {
   "cell_type": "code",
   "execution_count": null,
   "metadata": {
    "scrolled": true
   },
   "outputs": [],
   "source": [
    "s.chisq(y, yfit, yerr)"
   ]
  },
  {
   "cell_type": "code",
   "execution_count": null,
   "metadata": {},
   "outputs": [],
   "source": []
  }
 ],
 "metadata": {
  "interpreter": {
   "hash": "b89b5cfaba6639976dc87ff2fec6d58faec662063367e2c229c520fe71072417"
  },
  "kernelspec": {
   "display_name": "Python 3 (ipykernel)",
   "language": "python",
   "name": "python3"
  },
  "language_info": {
   "codemirror_mode": {
    "name": "ipython",
    "version": 3
   },
   "file_extension": ".py",
   "mimetype": "text/x-python",
   "name": "python",
   "nbconvert_exporter": "python",
   "pygments_lexer": "ipython3",
   "version": "3.10.0"
  }
 },
 "nbformat": 4,
 "nbformat_minor": 2
}
