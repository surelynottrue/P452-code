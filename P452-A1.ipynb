{
 "cells": [
  {
   "cell_type": "markdown",
   "metadata": {},
   "source": [
    "# Assignment 1: Matrix Inversion"
   ]
  },
  {
   "cell_type": "code",
   "execution_count": 3,
   "metadata": {},
   "outputs": [],
   "source": [
    "from LibPython.Library import MatInv, Eigen\n",
    "import numpy as np\n",
    "from matplotlib import pyplot as plt\n",
    "np.set_printoptions(precision=3, suppress=True)\n",
    "m  = MatInv()\n",
    "e = Eigen()"
   ]
  },
  {
   "cell_type": "markdown",
   "metadata": {},
   "source": [
    "## Q1"
   ]
  },
  {
   "cell_type": "code",
   "execution_count": 2,
   "metadata": {},
   "outputs": [
    {
     "name": "stdout",
     "output_type": "stream",
     "text": [
      "A:\n",
      "[[ 1. -1.  4.  0.  2.  9.]\n",
      " [ 0.  5. -2.  7.  8.  4.]\n",
      " [ 1.  0.  5.  7.  3. -2.]\n",
      " [ 6. -1.  2.  3.  0.  8.]\n",
      " [-4.  2.  0.  5. -5.  3.]\n",
      " [ 0.  7. -1.  5.  4. -2.]]\n",
      "\n",
      "b:\n",
      "[19.  2. 13. -7. -9.  2.]\n"
     ]
    }
   ],
   "source": [
    "A = [[1.0,-1.0,4.0,0.0,2.0,9.0], [0.0,5.0,-2.0,7.0,8.0,4.0], [1.0,0.0,5.0,7.0,3.0,-2.0], [6.0,-1.0,2.0,3.0,0.0,8.0], [-4.0,2.0,0.0,5.0,-5.0,3.0], [0.0,7.0,-1.0,5.0,4.0,-2.0]]\n",
    "b = [19.0, 2.0, 13.0, -7.0, -9.0, 2.0]\n",
    "A = np.array(A)\n",
    "b = np.array(b)\n",
    "print(\"A:\")\n",
    "print(A)\n",
    "print(\"\\nb:\")\n",
    "print(b)"
   ]
  },
  {
   "cell_type": "code",
   "execution_count": 3,
   "metadata": {},
   "outputs": [
    {
     "name": "stdout",
     "output_type": "stream",
     "text": [
      "Gauss Jordan solution: [-1.762  0.896  4.052 -1.617  2.042  0.152]\n",
      "Gauss Jordan Inverse*Matrix:\n",
      "[[ 1.  0.  0.  0.  0. -0.]\n",
      " [-0.  1.  0.  0.  0.  0.]\n",
      " [-0.  0.  1.  0.  0. -0.]\n",
      " [ 0.  0.  0.  1. -0. -0.]\n",
      " [-0. -0. -0. -0.  1.  0.]\n",
      " [-0. -0.  0.  0.  0.  1.]]\n",
      "\n",
      "LU solution: [-1.762  0.896  4.052 -1.617  2.042  0.152]\n",
      "LU Decomposition Inverse*Matrix:\n",
      "[[ 1. -0. -0. -0. -0. -0.]\n",
      " [ 0.  1. -0. -0. -0.  0.]\n",
      " [ 0.  0.  1. -0.  0. -0.]\n",
      " [ 0.  0.  0.  1. -0. -0.]\n",
      " [ 0. -0. -0. -0.  1.  0.]\n",
      " [ 0. -0. -0.  0.  0.  1.]]\n"
     ]
    },
    {
     "ename": "Exception",
     "evalue": "Did not converge, make sure coefficient matrix is diagonal heavy",
     "output_type": "error",
     "traceback": [
      "\u001b[0;31m---------------------------------------------------------------------------\u001b[0m",
      "\u001b[0;31mException\u001b[0m                                 Traceback (most recent call last)",
      "\u001b[1;32m/home/spandan/git/P452-code/P452-A1.ipynb Cell 5'\u001b[0m in \u001b[0;36m<cell line: 11>\u001b[0;34m()\u001b[0m\n\u001b[1;32m      <a href='vscode-notebook-cell:/home/spandan/git/P452-code/P452-A1.ipynb#ch0000004?line=8'>9</a>\u001b[0m \u001b[39mprint\u001b[39m(np\u001b[39m.\u001b[39mdot(A, inv_lu))\n\u001b[1;32m     <a href='vscode-notebook-cell:/home/spandan/git/P452-code/P452-A1.ipynb#ch0000004?line=9'>10</a>\u001b[0m \u001b[39m# Inverses of these do not, each will give out an error which you can see by commenting out the others\u001b[39;00m\n\u001b[0;32m---> <a href='vscode-notebook-cell:/home/spandan/git/P452-code/P452-A1.ipynb#ch0000004?line=10'>11</a>\u001b[0m \u001b[39mprint\u001b[39m(\u001b[39m\"\u001b[39m\u001b[39m\\n\u001b[39;00m\u001b[39mJacobi solution: \u001b[39m\u001b[39m\"\u001b[39m\u001b[39m+\u001b[39m\u001b[39mstr\u001b[39m(m\u001b[39m.\u001b[39;49mjacobi(A, b)))\n\u001b[1;32m     <a href='vscode-notebook-cell:/home/spandan/git/P452-code/P452-A1.ipynb#ch0000004?line=11'>12</a>\u001b[0m inv_jb \u001b[39m=\u001b[39m m\u001b[39m.\u001b[39minverse(A, m\u001b[39m.\u001b[39mjacobi)\n\u001b[1;32m     <a href='vscode-notebook-cell:/home/spandan/git/P452-code/P452-A1.ipynb#ch0000004?line=12'>13</a>\u001b[0m \u001b[39mprint\u001b[39m(\u001b[39m\"\u001b[39m\u001b[39m\\n\u001b[39;00m\u001b[39mGauss Siedel solution: \u001b[39m\u001b[39m\"\u001b[39m\u001b[39m+\u001b[39m\u001b[39mstr\u001b[39m(m\u001b[39m.\u001b[39mgauss_siedel(A, b)))\n",
      "File \u001b[0;32m~/git/P452-code/LibPython/Library.py:70\u001b[0m, in \u001b[0;36mMatInv.jacobi\u001b[0;34m(self, A, b, stop, residue)\u001b[0m\n\u001b[1;32m     <a href='file:///home/spandan/git/P452-code/LibPython/Library.py?line=67'>68</a>\u001b[0m res\u001b[39m.\u001b[39mappend(np\u001b[39m.\u001b[39mlinalg\u001b[39m.\u001b[39mnorm(oldx \u001b[39m-\u001b[39m x))\n\u001b[1;32m     <a href='file:///home/spandan/git/P452-code/LibPython/Library.py?line=68'>69</a>\u001b[0m \u001b[39mif\u001b[39;00m np\u001b[39m.\u001b[39mlinalg\u001b[39m.\u001b[39mnorm(oldx \u001b[39m-\u001b[39m x) \u001b[39m>\u001b[39m \u001b[39m1e2\u001b[39m: \n\u001b[0;32m---> <a href='file:///home/spandan/git/P452-code/LibPython/Library.py?line=69'>70</a>\u001b[0m     \u001b[39mraise\u001b[39;00m \u001b[39mException\u001b[39;00m(\u001b[39m\"\u001b[39m\u001b[39mDid not converge, make sure coefficient matrix is diagonal heavy\u001b[39m\u001b[39m\"\u001b[39m)\n\u001b[1;32m     <a href='file:///home/spandan/git/P452-code/LibPython/Library.py?line=70'>71</a>\u001b[0m oldx \u001b[39m=\u001b[39m np\u001b[39m.\u001b[39mcopy(x)\n\u001b[1;32m     <a href='file:///home/spandan/git/P452-code/LibPython/Library.py?line=71'>72</a>\u001b[0m \u001b[39mfor\u001b[39;00m i \u001b[39min\u001b[39;00m \u001b[39mrange\u001b[39m(\u001b[39mlen\u001b[39m(b)):\n",
      "\u001b[0;31mException\u001b[0m: Did not converge, make sure coefficient matrix is diagonal heavy"
     ]
    }
   ],
   "source": [
    "# These converge\n",
    "print(\"Gauss Jordan solution: \"+str(m.gauss_jordan(A, b)))\n",
    "inv_gj = m.inverse(A, m.gauss_jordan)\n",
    "print(\"Gauss Jordan Inverse*Matrix:\")\n",
    "print(np.dot(A, inv_gj))\n",
    "inv_lu = m.inverse(A, m.lu_decom)\n",
    "print(\"\\nLU solution: \"+str(m.lu_decom(A, b)))\n",
    "print(\"LU Decomposition Inverse*Matrix:\")\n",
    "print(np.dot(A, inv_lu))\n",
    "# Inverses of these do not, each will give out an error which you can see by commenting out the others\n",
    "print(\"\\nJacobi solution: \"+str(m.jacobi(A, b)))\n",
    "inv_jb = m.inverse(A, m.jacobi)\n",
    "print(\"\\nGauss Siedel solution: \"+str(m.gauss_siedel(A, b)))\n",
    "inv_gs = m.inverse(A, m.gauss_siedel)\n",
    "print(\"\\nConjugate Gradient solution: \"+str(m.conjugate_gradient(A, b)))\n",
    "inv_cg = m.inverse(A, m.conjugate_gradient)"
   ]
  },
  {
   "cell_type": "markdown",
   "metadata": {},
   "source": [
    "## Q2"
   ]
  },
  {
   "cell_type": "code",
   "execution_count": 4,
   "metadata": {},
   "outputs": [
    {
     "name": "stdout",
     "output_type": "stream",
     "text": [
      "A:\n",
      "[[ 2. -1.  0.  0.  0.  0.]\n",
      " [-1.  4. -1.  0. -1.  0.]\n",
      " [ 0. -1.  4.  0.  0. -1.]\n",
      " [ 0.  0.  0.  2. -1.  0.]\n",
      " [ 0. -1.  0. -1.  4. -1.]\n",
      " [ 0.  0. -1.  0. -1.  4.]]\n",
      "\n",
      "b:\n",
      "[-2.5    0.667  3.    -1.333 -0.333  1.667]\n"
     ]
    }
   ],
   "source": [
    "A = [[2.0,-1.0,0.0,0.0,0.0,0.0], [-1.0,4.0,-1.0,0.0,-1.0,0.0], [0.0,-1.0,4.0,0.0,0.0,-1.0], [0.0,0.0,0.0,2.0,-1.0,0.0], [0.0,-1.0,0.0,-1.0,4.0,-1.0], [0.0,0.0,-1.0,0.0,-1.0,4.0]]\n",
    "b = [-5/2,2/3,3,-4/3,-1/3,5/3]\n",
    "A = np.array(A)\n",
    "b = np.array(b)\n",
    "print(\"A:\")\n",
    "print(A)\n",
    "print(\"\\nb:\")\n",
    "print(b)"
   ]
  },
  {
   "cell_type": "code",
   "execution_count": 5,
   "metadata": {},
   "outputs": [
    {
     "name": "stdout",
     "output_type": "stream",
     "text": [
      "LU solution: [-1.213  0.073  0.925 -0.71  -0.086  0.626]\n",
      "\n",
      "Jacobi solution: [-1.213  0.073  0.925 -0.71  -0.086  0.626]\n"
     ]
    },
    {
     "data": {
      "image/png": "[encoded data removed]",
      "text/plain": [
       "<Figure size 432x288 with 1 Axes>"
      ]
     },
     "metadata": {
      "needs_background": "light"
     },
     "output_type": "display_data"
    },
    {
     "name": "stdout",
     "output_type": "stream",
     "text": [
      "Jacobi inverse:\n",
      "[[0.587 0.174 0.05  0.029 0.057 0.027]\n",
      " [0.174 0.347 0.1   0.057 0.114 0.054]\n",
      " [0.05  0.1   0.297 0.027 0.054 0.088]\n",
      " [0.029 0.057 0.027 0.587 0.174 0.05 ]\n",
      " [0.057 0.114 0.054 0.174 0.347 0.1  ]\n",
      " [0.027 0.054 0.088 0.05  0.1   0.297]]\n"
     ]
    },
    {
     "data": {
      "image/png": "[encoded data removed]",
      "text/plain": [
       "<Figure size 432x288 with 1 Axes>"
      ]
     },
     "metadata": {
      "needs_background": "light"
     },
     "output_type": "display_data"
    },
    {
     "name": "stdout",
     "output_type": "stream",
     "text": [
      "Gauss Siedel inverse\n",
      "[[0.587 0.174 0.05  0.029 0.057 0.027]\n",
      " [0.174 0.347 0.1   0.057 0.114 0.054]\n",
      " [0.05  0.1   0.297 0.027 0.054 0.088]\n",
      " [0.029 0.057 0.027 0.587 0.174 0.05 ]\n",
      " [0.057 0.114 0.054 0.174 0.347 0.1  ]\n",
      " [0.027 0.054 0.088 0.05  0.1   0.297]]\n"
     ]
    }
   ],
   "source": [
    "print(\"LU solution: \"+str(m.lu_decom(A, b)))\n",
    "print(\"\\nJacobi solution: \"+str(m.jacobi(A, b)))\n",
    "# These converge\n",
    "inv_jb, res_jb = m.inverse(A, m.jacobi, residue=True)\n",
    "plt.title(\"Jacobi Residue vs Iteration\")\n",
    "plt.plot(res_jb[1])\n",
    "plt.xlabel(\"Iterations\")\n",
    "plt.ylabel(\"Residue\")\n",
    "plt.show()\n",
    "print(\"Jacobi inverse:\")\n",
    "print(inv_jb)\n",
    "plt.close()\n",
    "plt.title(\"Gauss Siedel Residue vs Iteration\")\n",
    "inv_gs, res_gs = m.inverse(A, m.gauss_siedel, residue=True)\n",
    "plt.plot(res_gs[1])\n",
    "plt.xlabel(\"Iterations\")\n",
    "plt.ylabel(\"Residue\")\n",
    "plt.show()\n",
    "print(\"Gauss Siedel inverse\")\n",
    "print(inv_gs)\n",
    "plt.close()\n",
    "# This does not converge\n",
    "# inv_cg = m.inverse(A, m.conjugate_gradient)"
   ]
  },
  {
   "cell_type": "markdown",
   "metadata": {},
   "source": [
    "## Q3"
   ]
  },
  {
   "cell_type": "code",
   "execution_count": 1,
   "metadata": {},
   "outputs": [],
   "source": [
    "from LibPython.Library import UnloadedMatrix"
   ]
  },
  {
   "cell_type": "code",
   "execution_count": 4,
   "metadata": {
    "scrolled": true
   },
   "outputs": [
    {
     "name": "stdout",
     "output_type": "stream",
     "text": [
      "Matrix to be diagonalized:\n",
      "UnloadedMatrix([[-0.96, 0.5, 0.0, 0.5, 0.0, 0.0, 0.0, 0.0, 0.0],\n",
      "\t\t[0.5, -0.96, 0.5, 0.0, 0.5, 0.0, 0.0, 0.0, 0.0],\n",
      "\t\t[0.0, 0.5, -0.96, 0.0, 0.0, 0.5, 0.0, 0.0, 0.0],\n",
      "\t\t[0.5, 0.0, 0.0, -0.96, 0.5, 0.0, 0.5, 0.0, 0.0],\n",
      "\t\t[0.0, 0.5, 0.0, 0.5, -0.96, 0.5, 0.0, 0.5, 0.0],\n",
      "\t\t[0.0, 0.0, 0.5, 0.0, 0.5, -0.96, 0.0, 0.0, 0.5],\n",
      "\t\t[0.0, 0.0, 0.0, 0.5, 0.0, 0.0, -0.96, 0.5, 0.0],\n",
      "\t\t[0.0, 0.0, 0.0, 0.0, 0.5, 0.0, 0.5, -0.96, 0.5],\n",
      "\t\t[0.0, 0.0, 0.0, 0.0, 0.0, 0.5, 0.0, 0.5, -0.96]])\n",
      "\n",
      "Diagonalized:\n",
      "[[-1.418 -0.361  0.241 -0.361  0.483  0.825  0.241  0.825  0.859]\n",
      " [-0.361 -1.176 -0.361  0.483  0.464  0.483  0.825  1.101  0.825]\n",
      " [ 0.241 -0.361 -1.418  0.825  0.483 -0.361  0.859  0.825  0.241]\n",
      " [-0.361  0.483  0.825 -1.176  0.464  1.101 -0.361  0.483  0.825]\n",
      " [ 0.483  0.464  0.483  0.464 -0.076  0.464  0.483  0.464  0.483]\n",
      " [ 0.825  0.483 -0.361  1.101  0.464 -1.176  0.825  0.483 -0.361]\n",
      " [ 0.241  0.825  0.859 -0.361  0.483  0.825 -1.418 -0.361  0.241]\n",
      " [ 0.825  1.101  0.825  0.483  0.464  0.483 -0.361 -1.176 -0.361]\n",
      " [ 0.859  0.825  0.241  0.825  0.483 -0.361  0.241 -0.361 -1.418]]\n",
      "\n",
      "Checking diagonalization:\n",
      "[[ 1.  0. -0.  0.  0.  0. -0.  0. -0.]\n",
      " [ 0.  1.  0. -0.  0.  0.  0. -0.  0.]\n",
      " [ 0. -0.  1. -0. -0. -0. -0. -0.  0.]\n",
      " [ 0.  0.  0.  1.  0.  0.  0.  0. -0.]\n",
      " [ 0. -0.  0. -0.  1.  0.  0. -0. -0.]\n",
      " [-0.  0. -0.  0. -0.  1. -0.  0. -0.]\n",
      " [ 0.  0.  0. -0.  0. -0.  1.  0.  0.]\n",
      " [ 0. -0. -0. -0. -0.  0.  0.  1. -0.]\n",
      " [ 0. -0.  0. -0.  0. -0.  0. -0.  1.]]\n"
     ]
    }
   ],
   "source": [
    "a = UnloadedMatrix(3, [[0,1], [1,0]], 0.2)\n",
    "b = m.inverse(a, m.conjugate_gradient)\n",
    "print(\"Matrix to be diagonalized:\")\n",
    "print(a)\n",
    "print(\"\\nDiagonalized:\")\n",
    "print(b)\n",
    "print(\"\\nChecking diagonalization:\")\n",
    "print(a@b)"
   ]
  },
  {
   "cell_type": "markdown",
   "metadata": {},
   "source": [
    "## Extra: Linear Regression"
   ]
  },
  {
   "cell_type": "code",
   "execution_count": 26,
   "metadata": {},
   "outputs": [],
   "source": [
    "from LibPython.Library import Statistics\n",
    "s = Statistics()"
   ]
  },
  {
   "cell_type": "code",
   "execution_count": 27,
   "metadata": {},
   "outputs": [],
   "source": [
    "data = np.genfromtxt(\"vol.csv\", delimiter=\",\")\n",
    "x = data[:, 0]\n",
    "y = data[:, 1]\n",
    "yerr = data[:, 2]\n",
    "y = np.log(y)\n",
    "yerr = np.log(yerr)"
   ]
  },
  {
   "cell_type": "code",
   "execution_count": 28,
   "metadata": {},
   "outputs": [],
   "source": [
    "yfit = s.linear_regression(x, y, yerr)[0]\n"
   ]
  },
  {
   "cell_type": "code",
   "execution_count": 29,
   "metadata": {},
   "outputs": [],
   "source": [
    "from matplotlib import pyplot as plt"
   ]
  },
  {
   "cell_type": "code",
   "execution_count": 30,
   "metadata": {},
   "outputs": [
    {
     "data": {
      "text/plain": [
       "[<matplotlib.lines.Line2D at 0x7f56453643a0>]"
      ]
     },
     "execution_count": 30,
     "metadata": {},
     "output_type": "execute_result"
    },
    {
     "data": {
      "image/png": "[encoded data removed]",
      "text/plain": [
       "<Figure size 432x288 with 1 Axes>"
      ]
     },
     "metadata": {
      "needs_background": "light"
     },
     "output_type": "display_data"
    }
   ],
   "source": [
    "plt.scatter(x, y)\n",
    "plt.plot(x, yfit)"
   ]
  },
  {
   "cell_type": "code",
   "execution_count": null,
   "metadata": {
    "scrolled": true
   },
   "outputs": [],
   "source": [
    "s.chisq(y, yfit, yerr)"
   ]
  },
  {
   "cell_type": "code",
   "execution_count": null,
   "metadata": {},
   "outputs": [],
   "source": []
  }
 ],
 "metadata": {
  "interpreter": {
   "hash": "b89b5cfaba6639976dc87ff2fec6d58faec662063367e2c229c520fe71072417"
  },
  "kernelspec": {
   "display_name": "Python 3 (ipykernel)",
   "language": "python",
   "name": "python3"
  },
  "language_info": {
   "codemirror_mode": {
    "name": "ipython",
    "version": 3
   },
   "file_extension": ".py",
   "mimetype": "text/x-python",
   "name": "python",
   "nbconvert_exporter": "python",
   "pygments_lexer": "ipython3",
   "version": "3.9.7"
  }
 },
 "nbformat": 4,
 "nbformat_minor": 2
}
