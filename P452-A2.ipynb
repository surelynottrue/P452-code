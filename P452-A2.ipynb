{
 "cells": [
  {
   "cell_type": "markdown",
   "metadata": {},
   "source": [
    "# Q1"
   ]
  },
  {
   "cell_type": "code",
   "execution_count": 95,
   "metadata": {},
   "outputs": [],
   "source": [
    "from LibPython.Library import Statistics\n",
    "import numpy as np\n",
    "from matplotlib import pyplot as plt"
   ]
  },
  {
   "cell_type": "code",
   "execution_count": 96,
   "metadata": {},
   "outputs": [],
   "source": [
    "data = np.genfromtxt(\"assgn2.txt\")\n",
    "x = data[:, 0]\n",
    "y = data[:, 1]\n",
    "# Added error equal to least count\n",
    "yerr = 0.001*np.ones_like(y)"
   ]
  },
  {
   "cell_type": "code",
   "execution_count": 97,
   "metadata": {},
   "outputs": [],
   "source": [
    "s = Statistics()\n",
    "# Change according to your convenience\n",
    "# func = s.chebyshev\n",
    "func = s.polynomial\n",
    "fitparams = s.polyfit(x, y, yerr, n=3, basis=func.__name__)"
   ]
  },
  {
   "cell_type": "code",
   "execution_count": 98,
   "metadata": {},
   "outputs": [
    {
     "data": {
      "image/png": "[encoded data removed]",
      "text/plain": [
       "<Figure size 432x288 with 1 Axes>"
      ]
     },
     "metadata": {
      "needs_background": "light"
     },
     "output_type": "display_data"
    }
   ],
   "source": [
    "yfit = fitparams[0]*func(0, x) + fitparams[1]*func(1, x) + fitparams[2]*func(2, x) + fitparams[3]*func(3, x)\n",
    "plt.scatter(x, y, label=\"Data\")\n",
    "plt.plot(x, yfit, label=\"Fit\", c='orange')\n",
    "plt.xlabel(\"X\")\n",
    "plt.ylabel(\"Y\")\n",
    "plt.title(f\"fitting with {func.__name__} basis\")\n",
    "plt.legend()\n",
    "plt.show()"
   ]
  },
  {
   "cell_type": "markdown",
   "metadata": {},
   "source": [
    "# Q2"
   ]
  },
  {
   "cell_type": "code",
   "execution_count": 9,
   "metadata": {},
   "outputs": [],
   "source": [
    "from LibPython.Library import Random\n",
    "import numpy as np\n",
    "rbig = Random()\n",
    "rsmall = Random()"
   ]
  },
  {
   "cell_type": "code",
   "execution_count": 10,
   "metadata": {},
   "outputs": [],
   "source": [
    "N = int(1e6)\n",
    "small = (65, 1021)\n",
    "big = (572, 16381)\n",
    "randsmall = []\n",
    "randbig = []\n",
    "for i in range(2*N):\n",
    "    randsmall.append(2*rsmall.mlcg(*small) - 1)\n",
    "    randbig.append(2*rbig.mlcg(*big) - 1)\n",
    "xsmall = randsmall[0:N]\n",
    "ysmall = randsmall[N:2*N]\n",
    "xbig = randbig[0:N]\n",
    "ybig = randbig[N:2*N]"
   ]
  },
  {
   "cell_type": "code",
   "execution_count": 11,
   "metadata": {},
   "outputs": [
    {
     "name": "stdout",
     "output_type": "stream",
     "text": [
      "The pi value comes out to be 3.140844 for (65, 1021) and 3.142832 for (572, 16381)\n"
     ]
    }
   ],
   "source": [
    "inpointssmall = 0\n",
    "inpointsbig = 0\n",
    "for i in range(N):\n",
    "    if (xsmall[i]**2 + ysmall[i]**2) <= 1:\n",
    "        inpointssmall += 1\n",
    "\n",
    "for i in range(N):\n",
    "    if (xbig[i]**2 + ybig[i]**2) <= 1:\n",
    "        inpointsbig += 1\n",
    "\n",
    "print(f\"The pi value comes out to be {4*inpointssmall/N} for {small} and {4*inpointsbig/N} for {big}\")"
   ]
  },
  {
   "cell_type": "code",
   "execution_count": 12,
   "metadata": {},
   "outputs": [],
   "source": [
    "r = Random()"
   ]
  },
  {
   "cell_type": "code",
   "execution_count": 13,
   "metadata": {},
   "outputs": [],
   "source": [
    "def integrand(x):\n",
    "    return np.sqrt(1-x**2)"
   ]
  },
  {
   "cell_type": "code",
   "execution_count": 14,
   "metadata": {},
   "outputs": [],
   "source": [
    "def integration(a, b, N=int(1e6)):\n",
    "    rand = []\n",
    "    for i in range(N):\n",
    "        rand.append((r.mlcg())*(b-a) + a)\n",
    "    \n",
    "    integration = 0\n",
    "    for i in rand:\n",
    "        integration += integrand(i)\n",
    "    integration *= ((b - a) / N)\n",
    "\n",
    "    return integration"
   ]
  },
  {
   "cell_type": "code",
   "execution_count": 15,
   "metadata": {},
   "outputs": [
    {
     "name": "stdout",
     "output_type": "stream",
     "text": [
      "The pi value comes out to be 3.141619877831765\n"
     ]
    }
   ],
   "source": [
    "print(f\"The pi value comes out to be {4*integration(0, 1)}\")"
   ]
  },
  {
   "cell_type": "markdown",
   "metadata": {},
   "source": [
    "# Q3"
   ]
  },
  {
   "cell_type": "code",
   "execution_count": 87,
   "metadata": {},
   "outputs": [],
   "source": [
    "from LibPython.Library import Random\n",
    "import numpy as np\n",
    "r = Random()"
   ]
  },
  {
   "cell_type": "code",
   "execution_count": 88,
   "metadata": {},
   "outputs": [],
   "source": [
    "N = int(1e6)\n",
    "rand = []\n",
    "for i in range(3*N):\n",
    "    rand.append(2*r.mlcg() - 1)\n",
    "x = rand[0:N]\n",
    "y = rand[N:2*N]\n",
    "z = rand[2*N:3*N]"
   ]
  },
  {
   "cell_type": "code",
   "execution_count": 89,
   "metadata": {},
   "outputs": [],
   "source": [
    "inpoints = 0\n",
    "for i in range(N):\n",
    "    if (x[i]**2 + y[i]**2) <=1 and (x[i]**2 + z[i]**2) <= 1:\n",
    "        inpoints += 1"
   ]
  },
  {
   "cell_type": "code",
   "execution_count": 94,
   "metadata": {},
   "outputs": [
    {
     "name": "stdout",
     "output_type": "stream",
     "text": [
      "The volume of the Steinmetz solid is: 5.30792\n"
     ]
    }
   ],
   "source": [
    "print(f\"The volume of the Steinmetz solid is: {8*(inpoints/N)}\")"
   ]
  }
 ],
 "metadata": {
  "interpreter": {
   "hash": "b89b5cfaba6639976dc87ff2fec6d58faec662063367e2c229c520fe71072417"
  },
  "kernelspec": {
   "display_name": "Python 3.10.0 64-bit",
   "language": "python",
   "name": "python3"
  },
  "language_info": {
   "codemirror_mode": {
    "name": "ipython",
    "version": 3
   },
   "file_extension": ".py",
   "mimetype": "text/x-python",
   "name": "python",
   "nbconvert_exporter": "python",
   "pygments_lexer": "ipython3",
   "version": "3.10.0"
  },
  "orig_nbformat": 4
 },
 "nbformat": 4,
 "nbformat_minor": 2
}
