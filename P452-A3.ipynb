{
 "cells": [
  {
   "cell_type": "markdown",
   "metadata": {},
   "source": [
    "# Q1"
   ]
  },
  {
   "cell_type": "code",
   "execution_count": 1,
   "metadata": {},
   "outputs": [],
   "source": [
    "from LibPython.Library import Integrate\n",
    "import numpy as np\n",
    "from matplotlib import pyplot as plt"
   ]
  },
  {
   "cell_type": "code",
   "execution_count": 14,
   "metadata": {},
   "outputs": [],
   "source": [
    "def integrand(x):\n",
    "    return np.exp(-x**2)\n",
    "def probability(x):\n",
    "    return 1/np.exp(x)\n",
    "i = Integrate(integrand)"
   ]
  },
  {
   "cell_type": "code",
   "execution_count": 16,
   "metadata": {},
   "outputs": [
    {
     "name": "stdout",
     "output_type": "stream",
     "text": [
      "Integration value without importance sampling is 0.7546792627734604, and with is 0.733365656939521\n"
     ]
    }
   ],
   "source": [
    "intSteps = 2000\n",
    "limit = (0,1)\n",
    "# Simple MC\n",
    "simpmc = i.monte_carlo(limit, intSteps)\n",
    "# Importance MC\n",
    "impomc = i.monte_carlo(limit, intSteps)\n",
    "\n",
    "print(f\"Integration value without importance sampling is {simpmc}, and with is {impomc}\")"
   ]
  }
 ],
 "metadata": {
  "interpreter": {
   "hash": "b89b5cfaba6639976dc87ff2fec6d58faec662063367e2c229c520fe71072417"
  },
  "kernelspec": {
   "display_name": "Python 3.10.0 64-bit",
   "language": "python",
   "name": "python3"
  },
  "language_info": {
   "codemirror_mode": {
    "name": "ipython",
    "version": 3
   },
   "file_extension": ".py",
   "mimetype": "text/x-python",
   "name": "python",
   "nbconvert_exporter": "python",
   "pygments_lexer": "ipython3",
   "version": "3.10.0"
  },
  "orig_nbformat": 4
 },
 "nbformat": 4,
 "nbformat_minor": 2
}
