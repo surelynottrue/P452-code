{
 "cells": [
  {
   "cell_type": "markdown",
   "metadata": {},
   "source": [
    "<h1><center>Mid Semester Exam</center></h1>\n",
    "<h4><center>Spandan Anupam | 1711136</center></h4>\n",
    "\n",
    "<h5><center>All OO code placed in ./LibPython/Library.py</center></h5>"
   ]
  },
  {
   "cell_type": "code",
   "execution_count": 1,
   "metadata": {},
   "outputs": [],
   "source": [
    "from LibPython.Library import MatInv\n",
    "import numpy as np"
   ]
  },
  {
   "cell_type": "markdown",
   "metadata": {},
   "source": [
    "## Q6: Inversion (Jacobi and Gauss Siedel)"
   ]
  },
  {
   "cell_type": "code",
   "execution_count": 2,
   "metadata": {},
   "outputs": [],
   "source": [
    "A = [[-2, 0, 0, -1, 0, 0.5],\n",
    "[ 0, 4, 0.5, 0, 1, 0],\n",
    "[ 0, 0.5, 1.5, 0, 0, 0],\n",
    "[-1, 0, 0, -2, 0, 1],\n",
    "[ 0, 1, 0, 0, -2.5, 0],\n",
    "[ 0.5, 0, 0, 1, 0, -3.75]]\n",
    "\n",
    "b = [-1, 0, 2.75, 2.5, -3, 2]\n",
    "\n",
    "A = np.array(A)\n",
    "b = np.array(b)"
   ]
  },
  {
   "cell_type": "code",
   "execution_count": 3,
   "metadata": {},
   "outputs": [
    {
     "name": "stdout",
     "output_type": "stream",
     "text": [
      "The Jacobi Solution: [ 1.5 -0.5  2.  -2.5  1.  -1. ]\n",
      "The Gauss Siedel Solution: [ 1.5 -0.5  2.  -2.5  1.  -1. ]\n"
     ]
    }
   ],
   "source": [
    "m = MatInv()\n",
    "precision = 1e-5\n",
    "JB = m.jacobi(A, b, precision**2)\n",
    "GS = m.gauss_siedel(A, b, precision**2)\n",
    "\n",
    "print(f\"The Jacobi Solution: {JB}\")\n",
    "print(f\"The Gauss Siedel Solution: {GS}\")"
   ]
  },
  {
   "cell_type": "markdown",
   "metadata": {},
   "source": [
    "## Q4: Radioactive Decay"
   ]
  },
  {
   "cell_type": "code",
   "execution_count": 4,
   "metadata": {},
   "outputs": [],
   "source": [
    "from LibPython.Library import Statistics\n",
    "import numpy as np\n",
    "s = Statistics()\n",
    "\n",
    "data = np.genfromtxt(\"msfit.txt\")\n",
    "time = data[:, 0]\n",
    "N = data[:, 1]\n",
    "sig = data[:, 2]\n",
    "\n",
    "N = np.log(N)\n",
    "sig = 1 / sig"
   ]
  },
  {
   "cell_type": "code",
   "execution_count": 5,
   "metadata": {},
   "outputs": [],
   "source": [
    "Nfit, m, c, sig2m, sig2c, cov, r2 = s.linear_regression(time, N, sig, errfull=True)"
   ]
  },
  {
   "cell_type": "code",
   "execution_count": 6,
   "metadata": {},
   "outputs": [
    {
     "name": "stdout",
     "output_type": "stream",
     "text": [
      "The estimate for half life is 74.8766130697403 with an error of 0.0010146470187917449\n"
     ]
    }
   ],
   "source": [
    "halflife = np.log(2) / (-m)\n",
    "error = np.sqrt(sig2m)\n",
    "\n",
    "print(f\"The estimate for half life is {halflife} with an error of {error}\")"
   ]
  },
  {
   "cell_type": "code",
   "execution_count": 7,
   "metadata": {},
   "outputs": [
    {
     "name": "stdout",
     "output_type": "stream",
     "text": [
      "The chisq value of 15.17084059456294 is greater than the critical value of 3.325, so we reject the null hypothesis\n"
     ]
    }
   ],
   "source": [
    "chisq, chisqn = s.chisq(N, Nfit, sig)\n",
    "print(f\"The chisq value of {chisq} is greater than the critical value of 3.325, so we reject the null hypothesis\")"
   ]
  },
  {
   "cell_type": "code",
   "execution_count": 8,
   "metadata": {},
   "outputs": [],
   "source": [
    "import matplotlib.pyplot as plt"
   ]
  },
  {
   "cell_type": "code",
   "execution_count": 9,
   "metadata": {},
   "outputs": [
    {
     "data": {
      "image/png": "[encoded data removed]",
      "text/plain": [
       "<Figure size 432x288 with 1 Axes>"
      ]
     },
     "metadata": {
      "needs_background": "light"
     },
     "output_type": "display_data"
    }
   ],
   "source": [
    "plt.scatter(time, np.exp(N), c=\"green\", label=\"Experimental data\")\n",
    "plt.plot(time, np.exp(Nfit), label=\"Fitted data\")\n",
    "plt.xlabel(\"Time (s)\")\n",
    "plt.ylabel(\"N (counts)\")\n",
    "plt.legend()\n",
    "plt.title(\"Radioactive Decay Fit\")\n",
    "plt.savefig(\"msfit.png\")"
   ]
  },
  {
   "cell_type": "markdown",
   "metadata": {},
   "source": [
    "## Q5 Power Iteration"
   ]
  },
  {
   "cell_type": "code",
   "execution_count": 1,
   "metadata": {},
   "outputs": [],
   "source": [
    "from LibPython.Library import Eigen\n",
    "import numpy as np\n",
    "e = Eigen()"
   ]
  },
  {
   "cell_type": "code",
   "execution_count": 2,
   "metadata": {},
   "outputs": [],
   "source": [
    "A = [[2, -1,  0,  0,  0],\n",
    "[-1,  2, -1,  0,  0],\n",
    "[0, -1,  2, -1,  0],\n",
    "[0,  0, -1,  2, -1],\n",
    "[0,  0,  0, -1,  2]]\n",
    "A = np.array(A)"
   ]
  },
  {
   "cell_type": "code",
   "execution_count": 3,
   "metadata": {},
   "outputs": [
    {
     "data": {
      "text/plain": [
       "([3.7309352420415047,\n",
       "  1.9998605207942068,\n",
       "  0.26794916345524206,\n",
       "  0.0004948405546917366,\n",
       "  0.0002148713482187682],\n",
       " [array([ 0.28872856, -0.5       ,  0.57729684, -0.5       ,  0.28872856]),\n",
       "  array([ 5.77301231e-01,  8.78130241e-05, -5.77448319e-01,  8.78130241e-05,\n",
       "          5.77301231e-01]),\n",
       "  array([0.28866267, 0.5       , 0.57736274, 0.5       , 0.28866267]),\n",
       "  array([ 0.32190279, -0.49914609,  0.54264389, -0.49914679,  0.3219035 ]),\n",
       "  array([ 0.38341842, -0.49496809,  0.4724137 , -0.49087538,  0.3792935 ])])"
      ]
     },
     "execution_count": 3,
     "metadata": {},
     "output_type": "execute_result"
    }
   ],
   "source": [
    "e.power(A)"
   ]
  },
  {
   "cell_type": "code",
   "execution_count": 6,
   "metadata": {},
   "outputs": [
    {
     "data": {
      "text/plain": [
       "[array([0.28867513, 0.5       , 0.57735027, 0.5       , 0.28867513]),\n",
       " array([ 5.00000000e-01,  5.00000000e-01,  7.07050159e-17, -5.00000000e-01,\n",
       "        -5.00000000e-01])]"
      ]
     },
     "execution_count": 6,
     "metadata": {},
     "output_type": "execute_result"
    }
   ],
   "source": [
    "a = -1\n",
    "c = -1\n",
    "b = 2\n",
    "n = 5\n",
    "lmbd = []\n",
    "veclist = []\n",
    "for k in range(2):\n",
    "    v = np.zeros(n)\n",
    "    l = b + 2*np.sqrt(a*c)*np.cos((k+1)*np.pi/(n+1))\n",
    "    for i in range(n):\n",
    "        v[i] = 2*np.sqrt(c/a)**(k+1)*np.sin((i+1)*(k+1)*np.pi/(n+1))\n",
    "    lmbd.append(l)\n",
    "    veclist.append(v / np.linalg.norm(v))\n",
    "veclist\n",
    "# print(\"The predicted values do not match, there seems to be an error in the sign in the eigenvectors. Eigenvalues however, do match.\")"
   ]
  },
  {
   "cell_type": "code",
   "execution_count": null,
   "metadata": {},
   "outputs": [],
   "source": []
  }
 ],
 "metadata": {
  "interpreter": {
   "hash": "b89b5cfaba6639976dc87ff2fec6d58faec662063367e2c229c520fe71072417"
  },
  "kernelspec": {
   "display_name": "Python 3.10.0 64-bit",
   "language": "python",
   "name": "python3"
  },
  "language_info": {
   "codemirror_mode": {
    "name": "ipython",
    "version": 3
   },
   "file_extension": ".py",
   "mimetype": "text/x-python",
   "name": "python",
   "nbconvert_exporter": "python",
   "pygments_lexer": "ipython3",
   "version": "3.10.0"
  },
  "orig_nbformat": 4
 },
 "nbformat": 4,
 "nbformat_minor": 2
}
