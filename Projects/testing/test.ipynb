{
 "cells": [
  {
   "cell_type": "code",
   "execution_count": 1,
   "metadata": {},
   "outputs": [],
   "source": [
    "from LibPython.Library import MatInv, Eigen\n",
    "import numpy as np\n",
    "m  = MatInv()\n",
    "e = Eigen()"
   ]
  },
  {
   "cell_type": "code",
   "execution_count": 2,
   "metadata": {},
   "outputs": [],
   "source": [
    "B = [[1.0,-1.0,4.0,0.0,2.0,9.0], [0.0,5.0,-2.0,7.0,8.0,4.0], [1.0,0.0,5.0,7.0,3.0,-2.0], [6.0,-1.0,2.0,3.0,0.0,8.0], [-4.0,2.0,0.0,5.0,-5.0,3.0], [0.0,7.0,-1.0,5.0,4.0,-2.0]]\n",
    "b = [19.0, 2.0, 13.0, -7.0, -9.0, 2.0]\n",
    "B = np.array(B)\n",
    "b = np.array(b)"
   ]
  },
  {
   "cell_type": "code",
   "execution_count": 3,
   "metadata": {},
   "outputs": [
    {
     "data": {
      "text/plain": [
       "array([[ 1.00000000e+00,  7.77156117e-16,  8.32667268e-16,\n",
       "         2.66453526e-15,  2.16493490e-15,  1.66533454e-16],\n",
       "       [ 5.20417043e-17,  1.00000000e+00, -8.32667268e-17,\n",
       "        -1.16573418e-15, -4.44089210e-16,  1.44328993e-15],\n",
       "       [ 6.93889390e-18, -2.08166817e-16,  1.00000000e+00,\n",
       "        -8.46545056e-16, -5.55111512e-16,  6.66133815e-16],\n",
       "       [ 5.55111512e-17, -2.77555756e-17,  3.88578059e-16,\n",
       "         1.00000000e+00,  3.33066907e-16, -3.33066907e-16],\n",
       "       [-1.11022302e-16,  1.24900090e-16, -5.13478149e-16,\n",
       "         2.63677968e-16,  1.00000000e+00, -3.05311332e-16],\n",
       "       [ 2.77555756e-17, -7.63278329e-17,  1.87350135e-16,\n",
       "        -9.02056208e-17,  2.77555756e-17,  1.00000000e+00]])"
      ]
     },
     "execution_count": 3,
     "metadata": {},
     "output_type": "execute_result"
    }
   ],
   "source": [
    "np.dot(m.inverse(B, m.lu_decom), B)"
   ]
  },
  {
   "cell_type": "code",
   "execution_count": 4,
   "metadata": {},
   "outputs": [],
   "source": [
    "A = [[2.0,-1.0,0.0,0.0,0.0,0.0], [-1.0,4.0,-1.0,0.0,-1.0,0.0], [0.0,-1.0,4.0,0.0,0.0,-1.0], [0.0,0.0,0.0,2.0,-1.0,0.0], [0.0,-1.0,0.0,-1.0,4.0,-1.0], [0.0,0.0,-1.0,0.0,-1.0,4.0]]\n",
    "a = [-5/2,2/3,3,-4/3,-1/3,5/3]\n",
    "A = np.array(A)\n",
    "a = np.array(a)"
   ]
  },
  {
   "cell_type": "code",
   "execution_count": 5,
   "metadata": {},
   "outputs": [
    {
     "data": {
      "text/plain": [
       "array([[ 9, 14, 17],\n",
       "       [-2, 40,  0],\n",
       "       [-2, -2,  2]])"
      ]
     },
     "execution_count": 5,
     "metadata": {},
     "output_type": "execute_result"
    }
   ],
   "source": [
    "# np.dot(m.inverse(A, m.gauss_siedel), A)\n",
    "A = np.array([[16, -8, -4], [-8, 29, 12], [-4, 12, 41]])\n",
    "(e.jacobi(A))"
   ]
  },
  {
   "cell_type": "code",
   "execution_count": 6,
   "metadata": {},
   "outputs": [],
   "source": [
    "from LibPython.Library import Statistics\n",
    "s = Statistics()"
   ]
  },
  {
   "cell_type": "code",
   "execution_count": 7,
   "metadata": {},
   "outputs": [],
   "source": [
    "data = np.genfromtxt(\"vol.csv\", delimiter=\",\")\n",
    "x = data[:, 0]\n",
    "y = data[:, 1]\n",
    "yerr = data[:, 2]\n",
    "y = np.log(y)\n",
    "yerr = np.log(yerr)"
   ]
  },
  {
   "cell_type": "code",
   "execution_count": 8,
   "metadata": {},
   "outputs": [],
   "source": [
    "yfit = s.linear_regression(x, y, yerr)[0]\n"
   ]
  },
  {
   "cell_type": "code",
   "execution_count": 9,
   "metadata": {},
   "outputs": [],
   "source": [
    "from matplotlib import pyplot as plt"
   ]
  },
  {
   "cell_type": "code",
   "execution_count": 10,
   "metadata": {},
   "outputs": [
    {
     "data": {
      "text/plain": [
       "[<matplotlib.lines.Line2D at 0x2518a23a170>]"
      ]
     },
     "execution_count": 10,
     "metadata": {},
     "output_type": "execute_result"
    },
    {
     "data": {
      "image/png": "[encoded data removed]",
      "text/plain": [
       "<Figure size 432x288 with 1 Axes>"
      ]
     },
     "metadata": {
      "needs_background": "light"
     },
     "output_type": "display_data"
    }
   ],
   "source": [
    "plt.scatter(x, y)\n",
    "plt.plot(x, yfit)"
   ]
  },
  {
   "cell_type": "code",
   "execution_count": 11,
   "metadata": {},
   "outputs": [
    {
     "data": {
      "text/plain": [
       "(0.01602718335534553, 0.0011447988110961094)"
      ]
     },
     "execution_count": 11,
     "metadata": {},
     "output_type": "execute_result"
    }
   ],
   "source": [
    "s.chisq(y, yfit, yerr)"
   ]
  },
  {
   "cell_type": "code",
   "execution_count": 1,
   "metadata": {},
   "outputs": [],
   "source": [
    "from LibPython.Library import Eigen\n",
    "import numpy as np\n",
    "e = Eigen()\n"
   ]
  },
  {
   "cell_type": "code",
   "execution_count": 2,
   "metadata": {},
   "outputs": [
    {
     "data": {
      "text/plain": [
       "(15.832679308033642, array([0.33253784, 0.52655491, 0.54599229, 0.56040247]))"
      ]
     },
     "execution_count": 2,
     "metadata": {},
     "output_type": "execute_result"
    }
   ],
   "source": [
    "E = [[1, 2, 3, 4], [2, 3, 5, 6], [3, 5, 2, 7], [4, 6, 7, 1]]\n",
    "E = np.array(E)\n",
    "e.power(E)"
   ]
  },
  {
   "cell_type": "code",
   "execution_count": 9,
   "metadata": {},
   "outputs": [],
   "source": [
    "from LibPython.Library import UnloadedMatrix\n",
    "from LibPython.Library import MatInv\n",
    "import numpy as np"
   ]
  },
  {
   "cell_type": "code",
   "execution_count": 11,
   "metadata": {},
   "outputs": [
    {
     "name": "stdout",
     "output_type": "stream",
     "text": [
      "UnloadedMatrix([[-0.96, 0.5, 0.0, 0.0, 0.0, 0.0, 0.0, 0.0, 0.0, 0.0],\n",
      "\t\t[0.5, -0.96, 0.5, 0.0, 0.0, 0.0, 0.0, 0.0, 0.0, 0.0],\n",
      "\t\t[0.0, 0.5, -0.96, 0.5, 0.0, 0.0, 0.0, 0.0, 0.0, 0.0],\n",
      "\t\t[0.0, 0.0, 0.5, -0.96, 0.5, 0.0, 0.0, 0.0, 0.0, 0.0],\n",
      "\t\t[0.0, 0.0, 0.0, 0.5, -0.96, 0.5, 0.0, 0.0, 0.0, 0.0],\n",
      "\t\t[0.0, 0.0, 0.0, 0.0, 0.5, -0.96, 0.5, 0.0, 0.0, 0.0],\n",
      "\t\t[0.0, 0.0, 0.0, 0.0, 0.0, 0.5, -0.96, 0.5, 0.0, 0.0],\n",
      "\t\t[0.0, 0.0, 0.0, 0.0, 0.0, 0.0, 0.5, -0.96, 0.5, 0.0],\n",
      "\t\t[0.0, 0.0, 0.0, 0.0, 0.0, 0.0, 0.0, 0.5, -0.96, 0.5],\n",
      "\t\t[0.0, 0.0, 0.0, 0.0, 0.0, 0.0, 0.0, 0.0, 0.5, -0.96]])\n"
     ]
    }
   ],
   "source": [
    "# m = MatInv()\n",
    " print(UnloadedMatrix(10, 1, 0.2))\n",
    "# m.inverse(UnloadedMatrix(3, 1, 0.2), m.conjugate_gradient)\n"
   ]
  },
  {
   "cell_type": "code",
   "execution_count": null,
   "metadata": {},
   "outputs": [],
   "source": []
  }
 ],
 "metadata": {
  "interpreter": {
   "hash": "b89b5cfaba6639976dc87ff2fec6d58faec662063367e2c229c520fe71072417"
  },
  "kernelspec": {
   "display_name": "Python 3.10.0 64-bit",
   "language": "python",
   "name": "python3"
  },
  "language_info": {
   "codemirror_mode": {
    "name": "ipython",
    "version": 3
   },
   "file_extension": ".py",
   "mimetype": "text/x-python",
   "name": "python",
   "nbconvert_exporter": "python",
   "pygments_lexer": "ipython3",
   "version": "3.10.0"
  },
  "orig_nbformat": 4
 },
 "nbformat": 4,
 "nbformat_minor": 2
}
