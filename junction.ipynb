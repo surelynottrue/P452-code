{
 "cells": [
  {
   "cell_type": "code",
   "execution_count": 2,
   "id": "seeing-villa",
   "metadata": {},
   "outputs": [],
   "source": [
    "import numpy as np\n",
    "from LibPython.Library import DiffEq\n",
    "from matplotlib import pyplot as plt"
   ]
  },
  {
   "cell_type": "code",
   "execution_count": 3,
   "id": "martial-cowboy",
   "metadata": {},
   "outputs": [],
   "source": [
    "def junction(t, y, paramlist, vsave, noisy=False, noiselevel=0.01):\n",
    "    I, Ic0, Q = tuple(paramlist)\n",
    "    rand = np.random.normal(scale=noiselevel)\n",
    "    if Q >= 1:\n",
    "        dg, g = tuple(y)\n",
    "        ddg = I/Ic0 - (1/Q)*dg - np.sin(g) + noisy*rand*I\n",
    "        vsave.append(dg)\n",
    "        return np.array([ddg, dg])\n",
    "    else:\n",
    "        g = y\n",
    "        dg = Q*(I/Ic0 - np.sin(g) + noisy*rand*I)\n",
    "        vsave.append(dg)\n",
    "        return np.array(dg)"
   ]
  },
  {
   "cell_type": "code",
   "execution_count": 3,
   "id": "familiar-concept",
   "metadata": {},
   "outputs": [],
   "source": [
    "start, stop = 0.75, 1.5\n",
    "step = 1e-2\n",
    "cycle = np.concatenate((np.arange(start, stop, step), np.flip(np.arange(start, stop, step))))"
   ]
  },
  {
   "cell_type": "code",
   "execution_count": 4,
   "id": "atmospheric-disease",
   "metadata": {},
   "outputs": [
    {
     "data": {
      "text/plain": [
       "<Figure size 432x288 with 0 Axes>"
      ]
     },
     "metadata": {},
     "output_type": "display_data"
    }
   ],
   "source": [
    "for Q in [1, 1e-2]:\n",
    "    noiselist = [0.0, 0.1, 0.5]\n",
    "    if Q == 1: noiselist = [0.00, 0.01, 0.05]\n",
    "    for noise in noiselist:\n",
    "        Ic0 = 1.0\n",
    "        tend = numpoints = 1e3\n",
    "        if Q<1: tend = 1/Q**2\n",
    "        tlist = np.linspace(0, tend, int(numpoints))\n",
    "        vlist = []; ilist = []\n",
    "        start = [1.0, 1.0]\n",
    "\n",
    "        for alp in cycle:\n",
    "            I = Ic0*alp\n",
    "            paramlist = [I, Ic0, Q]\n",
    "            vtau = []\n",
    "            d = DiffEq(lambda t, y, p : junction(t, y, p, vsave=vtau, noisy=bool(noise), noiselevel=noise), tlist, list(start), paramlist)\n",
    "            y = d.runge_kutta()\n",
    "\n",
    "            start = y[-1]\n",
    "            v = np.average(vtau)\n",
    "            vlist.append(v)\n",
    "            ilist.append(I)\n",
    "            try:\n",
    "                if (Q<1) and ilist[-2]==ilist[-1]:\n",
    "                    vlist.pop()\n",
    "                    ilist.pop()\n",
    "                    break\n",
    "            except(IndexError):\n",
    "                pass\n",
    "        plt.plot(np.array(ilist)/(Ic0), np.array(vlist)/(Ic0), label=f\"Noise = {noise}\")\n",
    "    plt.xlabel(\"I/Ic0\")\n",
    "    plt.ylabel(\"V/R*Ic0\")\n",
    "    plt.legend()\n",
    "    plt.savefig(f\"Q_{Q}.png\")\n",
    "    plt.clf()"
   ]
  },
  {
   "cell_type": "code",
   "execution_count": 4,
   "id": "c491fc73",
   "metadata": {},
   "outputs": [],
   "source": [
    "start, stop = 0.75, 1.5\n",
    "step = 1e-2\n",
    "cycle = np.arange(start, stop, step)"
   ]
  },
  {
   "cell_type": "code",
   "execution_count": 24,
   "id": "c815c55f",
   "metadata": {},
   "outputs": [],
   "source": [
    "plt.rcParams.update({\n",
    "    \"text.usetex\": True,\n",
    "    \"font.family\": \"sans-serif\"})\n",
    "\n",
    "plt.rc('axes', labelsize=15)  "
   ]
  },
  {
   "cell_type": "code",
   "execution_count": 36,
   "id": "f8efc1d8",
   "metadata": {},
   "outputs": [
    {
     "data": {
      "image/png": "[encoded data removed]",
      "text/plain": [
       "<Figure size 432x288 with 1 Axes>"
      ]
     },
     "metadata": {
      "needs_background": "light"
     },
     "output_type": "display_data"
    },
    {
     "ename": "SystemExit",
     "evalue": "",
     "output_type": "error",
     "traceback": [
      "An exception has occurred, use %tb to see the full traceback.\n",
      "\u001b[1;31mSystemExit\u001b[0m\n"
     ]
    },
    {
     "name": "stderr",
     "output_type": "stream",
     "text": [
      "C:\\Users\\Spandan Anupam\\AppData\\Roaming\\Python\\Python310\\site-packages\\IPython\\core\\interactiveshell.py:3452: UserWarning: To exit: use 'exit', 'quit', or Ctrl-D.\n",
      "  warn(\"To exit: use 'exit', 'quit', or Ctrl-D.\", stacklevel=1)\n"
     ]
    },
    {
     "data": {
      "text/plain": [
       "<Figure size 432x288 with 0 Axes>"
      ]
     },
     "metadata": {},
     "output_type": "display_data"
    }
   ],
   "source": [
    "from sys import exit\n",
    "for Q in [1]:\n",
    "    noiselist = [0.0]\n",
    "    for noise in noiselist:\n",
    "        Ic0 = 1.0\n",
    "        tend = 50\n",
    "        numpoints = 1e3\n",
    "        tlist = np.linspace(0, tend, int(numpoints))\n",
    "        vlist = []; ilist = []\n",
    "        start = [1.0, 1.0]\n",
    "\n",
    "        for alp in cycle:\n",
    "            I = Ic0*alp\n",
    "            paramlist = [I, Ic0, Q]\n",
    "            vtau = []\n",
    "            d = DiffEq(lambda t, y, p : junction(t, y, p, vsave=vtau, noisy=bool(noise), noiselevel=noise), tlist, list(start), paramlist)\n",
    "            y = d.runge_kutta()\n",
    "\n",
    "            start = y[-1]\n",
    "            v = np.average(vtau)\n",
    "            vlist.append(v)\n",
    "            ilist.append(I)\n",
    "            try:\n",
    "                if (Q<1) and ilist[-2]==ilist[-1]:\n",
    "                    vlist.pop()\n",
    "                    ilist.pop()\n",
    "                    break\n",
    "            except(IndexError):\n",
    "                pass\n",
    "    # plt.plot(tlist, vtau)\n",
    "    plt.plot(tlist, y[:-1, 1], c='black')\n",
    "    plt.xlabel(r'$\\tau$')\n",
    "    plt.ylabel(r\"$\\phi$\")\n",
    "    plt.show()\n",
    "    plt.savefig('./tauphi.pdf')\n",
    "    plt.clf()\n",
    "    exit()\n",
    "    \n",
    "    # plt.plot(tlist, vtau, c='black')\n",
    "    plt.plot(tlist, y[:-1, 0], c='black')\n",
    "    plt.xlabel(r'$\\tau$')\n",
    "    plt.ylabel(r\"$V$\")\n",
    "    plt.ylim(np.min(y[:-1, 0])-2, np.max(y[:-1, 0])+2)\n",
    "    plt.show()\n",
    "    plt.savefig('tauV.eps')\n",
    "    plt.clf()\n",
    "    # plt.plot(tlist, np.array(vtau)[:1000, 0], c='black')\n",
    "    # plt.xlabel(r'$\\tau$')\n",
    "    # plt.ylabel(r\"V\")\n",
    "    # plt.show()\n",
    "    # plt.plot(np.array(ilist)/(Ic0), np.array(vlist)/(Ic0), label=f\"Noise = {noise}\")\n",
    "    # plt.xlabel(\"I/Ic0\")\n",
    "    # plt.ylabel(\"V/R*Ic0\")\n",
    "    # plt.legend()\n",
    "    # plt.savefig(f\"Q_{Q}.png\")\n",
    "    # plt.clf()"
   ]
  },
  {
   "cell_type": "code",
   "execution_count": null,
   "id": "026f973e",
   "metadata": {},
   "outputs": [],
   "source": []
  }
 ],
 "metadata": {
  "kernelspec": {
   "display_name": "Python 3 (ipykernel)",
   "language": "python",
   "name": "python3"
  },
  "language_info": {
   "codemirror_mode": {
    "name": "ipython",
    "version": 3
   },
   "file_extension": ".py",
   "mimetype": "text/x-python",
   "name": "python",
   "nbconvert_exporter": "python",
   "pygments_lexer": "ipython3",
   "version": "3.10.0"
  }
 },
 "nbformat": 4,
 "nbformat_minor": 5
}
