{
 "cells": [
  {
   "cell_type": "code",
   "execution_count": 1,
   "id": "seeing-villa",
   "metadata": {},
   "outputs": [],
   "source": [
    "import numpy as np\n",
    "from LibPython.Library import DiffEq\n",
    "from matplotlib import pyplot as plt"
   ]
  },
  {
   "cell_type": "code",
   "execution_count": 15,
   "id": "martial-cowboy",
   "metadata": {},
   "outputs": [],
   "source": [
    "def junction(t, y, paramlist, vsave, noisy=False, noiselevel=0.01):\n",
    "    I, Ic0, Q = tuple(paramlist)\n",
    "    rand = np.random.normal(scale=noiselevel)\n",
    "    if Q >= 1:\n",
    "        dg, g = tuple(y)\n",
    "        ddg = I/Ic0 - (1/Q)*dg - np.sin(g) + noisy*rand*I\n",
    "        vsave.append(dg)\n",
    "        return np.array([ddg, dg])\n",
    "    else:\n",
    "        g = y\n",
    "        dg = Q*(I/Ic0 - np.sin(g) + noisy*rand*I)\n",
    "        vsave.append(dg)\n",
    "        return np.array(dg)"
   ]
  },
  {
   "cell_type": "code",
   "execution_count": 16,
   "id": "familiar-concept",
   "metadata": {},
   "outputs": [],
   "source": [
    "start, stop = 0.75, 1.5\n",
    "step = 1e-2\n",
    "cycle = np.concatenate((np.arange(start, stop, step), np.flip(np.arange(start, stop, step))))"
   ]
  },
  {
   "cell_type": "code",
   "execution_count": 17,
   "id": "atmospheric-disease",
   "metadata": {},
   "outputs": [
    {
     "data": {
      "text/plain": [
       "<Figure size 432x288 with 0 Axes>"
      ]
     },
     "metadata": {},
     "output_type": "display_data"
    }
   ],
   "source": [
    "for Q in [1, 1e-2]:\n",
    "    noiselist = [0.0, 0.1, 0.5]\n",
    "    if Q == 1: noiselist = [0.00, 0.01, 0.05]\n",
    "    for noise in noiselist:\n",
    "        Ic0 = 1.0\n",
    "        tend = numpoints = 1e3\n",
    "        if Q<1: tend = 1/Q**2\n",
    "        tlist = np.linspace(0, tend, int(numpoints))\n",
    "        vlist = []; ilist = []\n",
    "        start = [1.0, 1.0]\n",
    "\n",
    "        for alp in cycle:\n",
    "            I = Ic0*alp\n",
    "            paramlist = [I, Ic0, Q]\n",
    "            vtau = []\n",
    "            d = DiffEq(lambda t, y, p : junction(t, y, p, vsave=vtau, noisy=bool(noise), noiselevel=noise), tlist, list(start), paramlist)\n",
    "            y = d.runge_kutta()\n",
    "\n",
    "            start = y[-1]\n",
    "            v = np.average(vtau)\n",
    "            vlist.append(v)\n",
    "            ilist.append(I)\n",
    "            try:\n",
    "                if (Q<1) and ilist[-2]==ilist[-1]:\n",
    "                    vlist.pop()\n",
    "                    ilist.pop()\n",
    "                    break\n",
    "            except(IndexError):\n",
    "                pass\n",
    "        plt.plot(np.array(ilist)/(Ic0), np.array(vlist)/(Ic0), label=f\"Noise = {noise}\")\n",
    "    plt.xlabel(\"I/Ic0\")\n",
    "    plt.ylabel(\"V/R*Ic0\")\n",
    "    plt.legend()\n",
    "    plt.savefig(f\"Q_{Q}.png\")\n",
    "    plt.clf()"
   ]
  },
  {
   "cell_type": "code",
   "execution_count": 9,
   "id": "f8efc1d8",
   "metadata": {},
   "outputs": [],
   "source": [
    "a = []"
   ]
  },
  {
   "cell_type": "code",
   "execution_count": 12,
   "id": "661b9312",
   "metadata": {},
   "outputs": [
    {
     "data": {
      "text/plain": [
       "True"
      ]
     },
     "execution_count": 12,
     "metadata": {},
     "output_type": "execute_result"
    }
   ],
   "source": [
    "type(a) == list"
   ]
  },
  {
   "cell_type": "code",
   "execution_count": null,
   "id": "f16a1177",
   "metadata": {},
   "outputs": [],
   "source": []
  }
 ],
 "metadata": {
  "kernelspec": {
   "display_name": "Python 3 (ipykernel)",
   "language": "python",
   "name": "python3"
  },
  "language_info": {
   "codemirror_mode": {
    "name": "ipython",
    "version": 3
   },
   "file_extension": ".py",
   "mimetype": "text/x-python",
   "name": "python",
   "nbconvert_exporter": "python",
   "pygments_lexer": "ipython3",
   "version": "3.10.0"
  }
 },
 "nbformat": 4,
 "nbformat_minor": 5
}
